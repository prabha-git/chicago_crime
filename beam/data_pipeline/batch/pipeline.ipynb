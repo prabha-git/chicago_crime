{
 "cells": [
  {
   "cell_type": "code",
   "execution_count": 1,
   "id": "61cddb3b-10b4-4722-8e05-7b5b0e5e7b5e",
   "metadata": {},
   "outputs": [],
   "source": [
    "from sodapy import Socrata\n",
    "import apache_beam as beam\n",
    "from apache_beam.options.pipeline_options import PipelineOptions,StandardOptions\n",
    "from datetime import datetime,timedelta\n",
    "import os\n",
    "import json"
   ]
  },
  {
   "cell_type": "code",
   "execution_count": 2,
   "id": "40d7f120-4602-4477-8d97-9f43c0fab2b8",
   "metadata": {},
   "outputs": [],
   "source": [
    "os.environ['GOOGLE_APPLICATION_CREDENTIALS'] = \"/Users/prabha/GitHub/chicago_crime/beam/crime_batch_key.json\""
   ]
  },
  {
   "cell_type": "code",
   "execution_count": 3,
   "id": "40a977a8-e1f0-4856-b52c-98f5fb5bc4f0",
   "metadata": {},
   "outputs": [],
   "source": [
    "table_schema= 'id:numeric,case_number:string,date:datetime,block:string,iucr:string,primary_type:string,description:string,location_description:string,arrest:boolean,domestic:boolean,beat:string,district:string,ward:string,community_area:string,fbi_code:string,x_coordinate:numeric,y_coordinate:numeric,year:numeric,updated_on:datetime,latitude:float,longitude:float,location:string'"
   ]
  },
  {
   "cell_type": "code",
   "execution_count": 4,
   "id": "8a888fcf-004a-4f07-986d-7f87eddcc531",
   "metadata": {},
   "outputs": [],
   "source": [
    "class fetch_data(beam.DoFn):\n",
    "    def process(self,url):\n",
    "        \n",
    "        updated_last_n_days = 1\n",
    "        client = Socrata(url, app_token=\"Ttz4HIh52J3g53HKTYKMNxu4M\")\n",
    "\n",
    "        # Get all the updates in the last week.\n",
    "        updated_on_filter = \"updated_on >= '\"+datetime.strftime(datetime.today().date()-timedelta(days = updated_last_n_days),'%Y-%m-%d')+\"T00:00:00.000'\"\n",
    "\n",
    "        crimes = list(client.get_all(\"ijzp-q8t2\",content_type='json',where = updated_on_filter,))\n",
    "        \n",
    "        crimes = crimes[1:] # remove the header row\n",
    "        \n",
    "        return crimes\n",
    "    "
   ]
  },
  {
   "cell_type": "code",
   "execution_count": 5,
   "id": "622db2a7-23e5-4626-86a8-7594abf840cf",
   "metadata": {},
   "outputs": [],
   "source": [
    "def get_first_element(row):\n",
    "    return row.split(',')"
   ]
  },
  {
   "cell_type": "code",
   "execution_count": 6,
   "id": "1298a664-7d0e-44f8-8339-97f68ca75d41",
   "metadata": {},
   "outputs": [],
   "source": [
    "def data_type_conversion(row):\n",
    "    int_type = ['id','x_coordinate','y_coordinate']\n",
    "    float_type = ['latitude','longitude']\n",
    "    \n",
    "    for col in int_type:\n",
    "        if col in row:\n",
    "            row[col] = int(row[col])\n",
    "        else:\n",
    "            row[col] = 0\n",
    "            \n",
    "    for col in float_type:\n",
    "        if col in row:\n",
    "            row[col] = float(row[col])\n",
    "        else:\n",
    "            row[col] = 0.0\n",
    "    \n",
    "    if 'location' in row:\n",
    "        row['location'] = json.dumps(row['location'])\n",
    "    else:\n",
    "        row['location']=\"\"\n",
    "\n",
    "    return row"
   ]
  },
  {
   "cell_type": "code",
   "execution_count": 7,
   "id": "fe7be5a9-59ed-4ad2-b80c-e9c0fa1fe7df",
   "metadata": {},
   "outputs": [
    {
     "data": {
      "application/javascript": [
       "\n",
       "        if (typeof window.interactive_beam_jquery == 'undefined') {\n",
       "          var jqueryScript = document.createElement('script');\n",
       "          jqueryScript.src = 'https://code.jquery.com/jquery-3.4.1.slim.min.js';\n",
       "          jqueryScript.type = 'text/javascript';\n",
       "          jqueryScript.onload = function() {\n",
       "            var datatableScript = document.createElement('script');\n",
       "            datatableScript.src = 'https://cdn.datatables.net/1.10.20/js/jquery.dataTables.min.js';\n",
       "            datatableScript.type = 'text/javascript';\n",
       "            datatableScript.onload = function() {\n",
       "              window.interactive_beam_jquery = jQuery.noConflict(true);\n",
       "              window.interactive_beam_jquery(document).ready(function($){\n",
       "                \n",
       "              });\n",
       "            }\n",
       "            document.head.appendChild(datatableScript);\n",
       "          };\n",
       "          document.head.appendChild(jqueryScript);\n",
       "        } else {\n",
       "          window.interactive_beam_jquery(document).ready(function($){\n",
       "            \n",
       "          });\n",
       "        }"
      ]
     },
     "metadata": {},
     "output_type": "display_data"
    },
    {
     "name": "stderr",
     "output_type": "stream",
     "text": [
      "/Users/prabha/opt/anaconda3/envs/beam/lib/python3.7/site-packages/apache_beam/io/gcp/bigquery.py:1692: BeamDeprecationWarning: options is deprecated since First stable release. References to <pipeline>.options will not be supported\n",
      "  is_streaming_pipeline = p.options.view_as(StandardOptions).streaming\n",
      "/Users/prabha/opt/anaconda3/envs/beam/lib/python3.7/site-packages/apache_beam/io/gcp/bigquery_file_loads.py:1112: BeamDeprecationWarning: options is deprecated since First stable release. References to <pipeline>.options will not be supported\n",
      "  temp_location = p.options.view_as(GoogleCloudOptions).temp_location\n",
      "WARNING:root:Make sure that locally built Python SDK docker image has Python 3.7 interpreter.\n"
     ]
    },
    {
     "data": {
      "text/plain": [
       "<apache_beam.runners.portability.fn_api_runner.fn_runner.RunnerResult at 0x7ff294a2f890>"
      ]
     },
     "execution_count": 7,
     "metadata": {},
     "output_type": "execute_result"
    }
   ],
   "source": [
    "\n",
    "p1 = beam.Pipeline()\n",
    "\n",
    "cleaned_data = (\n",
    "    p1\n",
    "    | beam.Create(['data.cityofchicago.org'])\n",
    "    | \"Call API\" >> beam.ParDo(fetch_data())\n",
    "   # | \"Get first element\" >> beam.FlatMap(get_first_element)\n",
    ")\n",
    "\n",
    "\n",
    "#table_schema='id:string'\n",
    "\n",
    "write_to_bq = (\n",
    "    cleaned_data\n",
    "    | \"Clean Data to Json\" >> beam.Map(data_type_conversion)\n",
    "    #| beam.io.WriteToText(\"output\")\n",
    "    | beam.io.WriteToBigQuery('chicago-crime-284514:data_lake.chicago_crime',schema=table_schema,\n",
    "                              create_disposition=beam.io.BigQueryDisposition.CREATE_IF_NEEDED,\n",
    "                              write_disposition=beam.io.BigQueryDisposition.WRITE_APPEND,\n",
    "                              custom_gcs_temp_location='gs://chicago-crime-284514-batch/tmp')\n",
    ")\n",
    "\n",
    "p1.run()"
   ]
  }
 ],
 "metadata": {
  "kernelspec": {
   "display_name": "Python 3",
   "language": "python",
   "name": "python3"
  },
  "language_info": {
   "codemirror_mode": {
    "name": "ipython",
    "version": 3
   },
   "file_extension": ".py",
   "mimetype": "text/x-python",
   "name": "python",
   "nbconvert_exporter": "python",
   "pygments_lexer": "ipython3",
   "version": "3.7.10"
  }
 },
 "nbformat": 4,
 "nbformat_minor": 5
}
